{
  "nbformat": 4,
  "nbformat_minor": 0,
  "metadata": {
    "colab": {
      "name": "03_Question_Answering.ipynb",
      "provenance": []
    },
    "kernelspec": {
      "name": "python3",
      "display_name": "Python 3"
    },
    "accelerator": "GPU",
    "widgets": {
      "application/vnd.jupyter.widget-state+json": {
        "eec252502001451b89cdcd4360c95da8": {
          "model_module": "@jupyter-widgets/controls",
          "model_name": "HBoxModel",
          "state": {
            "_view_name": "HBoxView",
            "_dom_classes": [],
            "_model_name": "HBoxModel",
            "_view_module": "@jupyter-widgets/controls",
            "_model_module_version": "1.5.0",
            "_view_count": null,
            "_view_module_version": "1.5.0",
            "box_style": "",
            "layout": "IPY_MODEL_bf8e8451e0aa4bbdb666037980968dfa",
            "_model_module": "@jupyter-widgets/controls",
            "children": [
              "IPY_MODEL_ee586c5791124a89a4ac63f629be008a",
              "IPY_MODEL_35f17bc397bc4b16bfa3818c3c51b70f"
            ]
          }
        },
        "bf8e8451e0aa4bbdb666037980968dfa": {
          "model_module": "@jupyter-widgets/base",
          "model_name": "LayoutModel",
          "state": {
            "_view_name": "LayoutView",
            "grid_template_rows": null,
            "right": null,
            "justify_content": null,
            "_view_module": "@jupyter-widgets/base",
            "overflow": null,
            "_model_module_version": "1.2.0",
            "_view_count": null,
            "flex_flow": null,
            "width": null,
            "min_width": null,
            "border": null,
            "align_items": null,
            "bottom": null,
            "_model_module": "@jupyter-widgets/base",
            "top": null,
            "grid_column": null,
            "overflow_y": null,
            "overflow_x": null,
            "grid_auto_flow": null,
            "grid_area": null,
            "grid_template_columns": null,
            "flex": null,
            "_model_name": "LayoutModel",
            "justify_items": null,
            "grid_row": null,
            "max_height": null,
            "align_content": null,
            "visibility": null,
            "align_self": null,
            "height": null,
            "min_height": null,
            "padding": null,
            "grid_auto_rows": null,
            "grid_gap": null,
            "max_width": null,
            "order": null,
            "_view_module_version": "1.2.0",
            "grid_template_areas": null,
            "object_position": null,
            "object_fit": null,
            "grid_auto_columns": null,
            "margin": null,
            "display": null,
            "left": null
          }
        },
        "ee586c5791124a89a4ac63f629be008a": {
          "model_module": "@jupyter-widgets/controls",
          "model_name": "FloatProgressModel",
          "state": {
            "_view_name": "ProgressView",
            "style": "IPY_MODEL_57648b223ead448aa426d545eabb5d90",
            "_dom_classes": [],
            "description": "Downloading: 100%",
            "_model_name": "FloatProgressModel",
            "bar_style": "success",
            "max": 443,
            "_view_module": "@jupyter-widgets/controls",
            "_model_module_version": "1.5.0",
            "value": 443,
            "_view_count": null,
            "_view_module_version": "1.5.0",
            "orientation": "horizontal",
            "min": 0,
            "description_tooltip": null,
            "_model_module": "@jupyter-widgets/controls",
            "layout": "IPY_MODEL_56dc6e3cc42e4712b364200388635b7e"
          }
        },
        "35f17bc397bc4b16bfa3818c3c51b70f": {
          "model_module": "@jupyter-widgets/controls",
          "model_name": "HTMLModel",
          "state": {
            "_view_name": "HTMLView",
            "style": "IPY_MODEL_452fe23d2e6540ae839b502e8bd126af",
            "_dom_classes": [],
            "description": "",
            "_model_name": "HTMLModel",
            "placeholder": "​",
            "_view_module": "@jupyter-widgets/controls",
            "_model_module_version": "1.5.0",
            "value": " 443/443 [00:02&lt;00:00, 189B/s]",
            "_view_count": null,
            "_view_module_version": "1.5.0",
            "description_tooltip": null,
            "_model_module": "@jupyter-widgets/controls",
            "layout": "IPY_MODEL_5a832757dc15417a89c4caaeacdb3532"
          }
        },
        "57648b223ead448aa426d545eabb5d90": {
          "model_module": "@jupyter-widgets/controls",
          "model_name": "ProgressStyleModel",
          "state": {
            "_view_name": "StyleView",
            "_model_name": "ProgressStyleModel",
            "description_width": "initial",
            "_view_module": "@jupyter-widgets/base",
            "_model_module_version": "1.5.0",
            "_view_count": null,
            "_view_module_version": "1.2.0",
            "bar_color": null,
            "_model_module": "@jupyter-widgets/controls"
          }
        },
        "56dc6e3cc42e4712b364200388635b7e": {
          "model_module": "@jupyter-widgets/base",
          "model_name": "LayoutModel",
          "state": {
            "_view_name": "LayoutView",
            "grid_template_rows": null,
            "right": null,
            "justify_content": null,
            "_view_module": "@jupyter-widgets/base",
            "overflow": null,
            "_model_module_version": "1.2.0",
            "_view_count": null,
            "flex_flow": null,
            "width": null,
            "min_width": null,
            "border": null,
            "align_items": null,
            "bottom": null,
            "_model_module": "@jupyter-widgets/base",
            "top": null,
            "grid_column": null,
            "overflow_y": null,
            "overflow_x": null,
            "grid_auto_flow": null,
            "grid_area": null,
            "grid_template_columns": null,
            "flex": null,
            "_model_name": "LayoutModel",
            "justify_items": null,
            "grid_row": null,
            "max_height": null,
            "align_content": null,
            "visibility": null,
            "align_self": null,
            "height": null,
            "min_height": null,
            "padding": null,
            "grid_auto_rows": null,
            "grid_gap": null,
            "max_width": null,
            "order": null,
            "_view_module_version": "1.2.0",
            "grid_template_areas": null,
            "object_position": null,
            "object_fit": null,
            "grid_auto_columns": null,
            "margin": null,
            "display": null,
            "left": null
          }
        },
        "452fe23d2e6540ae839b502e8bd126af": {
          "model_module": "@jupyter-widgets/controls",
          "model_name": "DescriptionStyleModel",
          "state": {
            "_view_name": "StyleView",
            "_model_name": "DescriptionStyleModel",
            "description_width": "",
            "_view_module": "@jupyter-widgets/base",
            "_model_module_version": "1.5.0",
            "_view_count": null,
            "_view_module_version": "1.2.0",
            "_model_module": "@jupyter-widgets/controls"
          }
        },
        "5a832757dc15417a89c4caaeacdb3532": {
          "model_module": "@jupyter-widgets/base",
          "model_name": "LayoutModel",
          "state": {
            "_view_name": "LayoutView",
            "grid_template_rows": null,
            "right": null,
            "justify_content": null,
            "_view_module": "@jupyter-widgets/base",
            "overflow": null,
            "_model_module_version": "1.2.0",
            "_view_count": null,
            "flex_flow": null,
            "width": null,
            "min_width": null,
            "border": null,
            "align_items": null,
            "bottom": null,
            "_model_module": "@jupyter-widgets/base",
            "top": null,
            "grid_column": null,
            "overflow_y": null,
            "overflow_x": null,
            "grid_auto_flow": null,
            "grid_area": null,
            "grid_template_columns": null,
            "flex": null,
            "_model_name": "LayoutModel",
            "justify_items": null,
            "grid_row": null,
            "max_height": null,
            "align_content": null,
            "visibility": null,
            "align_self": null,
            "height": null,
            "min_height": null,
            "padding": null,
            "grid_auto_rows": null,
            "grid_gap": null,
            "max_width": null,
            "order": null,
            "_view_module_version": "1.2.0",
            "grid_template_areas": null,
            "object_position": null,
            "object_fit": null,
            "grid_auto_columns": null,
            "margin": null,
            "display": null,
            "left": null
          }
        },
        "f24f2921202146a5811c3f46c5896cef": {
          "model_module": "@jupyter-widgets/controls",
          "model_name": "HBoxModel",
          "state": {
            "_view_name": "HBoxView",
            "_dom_classes": [],
            "_model_name": "HBoxModel",
            "_view_module": "@jupyter-widgets/controls",
            "_model_module_version": "1.5.0",
            "_view_count": null,
            "_view_module_version": "1.5.0",
            "box_style": "",
            "layout": "IPY_MODEL_449c7c22c04047b0a251a16870cd82aa",
            "_model_module": "@jupyter-widgets/controls",
            "children": [
              "IPY_MODEL_e34848f66f8a43e580fb2e38d5d7d625",
              "IPY_MODEL_92bd346ff82c4fa188155394ecb18d17"
            ]
          }
        },
        "449c7c22c04047b0a251a16870cd82aa": {
          "model_module": "@jupyter-widgets/base",
          "model_name": "LayoutModel",
          "state": {
            "_view_name": "LayoutView",
            "grid_template_rows": null,
            "right": null,
            "justify_content": null,
            "_view_module": "@jupyter-widgets/base",
            "overflow": null,
            "_model_module_version": "1.2.0",
            "_view_count": null,
            "flex_flow": null,
            "width": null,
            "min_width": null,
            "border": null,
            "align_items": null,
            "bottom": null,
            "_model_module": "@jupyter-widgets/base",
            "top": null,
            "grid_column": null,
            "overflow_y": null,
            "overflow_x": null,
            "grid_auto_flow": null,
            "grid_area": null,
            "grid_template_columns": null,
            "flex": null,
            "_model_name": "LayoutModel",
            "justify_items": null,
            "grid_row": null,
            "max_height": null,
            "align_content": null,
            "visibility": null,
            "align_self": null,
            "height": null,
            "min_height": null,
            "padding": null,
            "grid_auto_rows": null,
            "grid_gap": null,
            "max_width": null,
            "order": null,
            "_view_module_version": "1.2.0",
            "grid_template_areas": null,
            "object_position": null,
            "object_fit": null,
            "grid_auto_columns": null,
            "margin": null,
            "display": null,
            "left": null
          }
        },
        "e34848f66f8a43e580fb2e38d5d7d625": {
          "model_module": "@jupyter-widgets/controls",
          "model_name": "FloatProgressModel",
          "state": {
            "_view_name": "ProgressView",
            "style": "IPY_MODEL_27eeafb686aa4c8f8e4d3e49a06e296f",
            "_dom_classes": [],
            "description": "Downloading: 100%",
            "_model_name": "FloatProgressModel",
            "bar_style": "success",
            "max": 231508,
            "_view_module": "@jupyter-widgets/controls",
            "_model_module_version": "1.5.0",
            "value": 231508,
            "_view_count": null,
            "_view_module_version": "1.5.0",
            "orientation": "horizontal",
            "min": 0,
            "description_tooltip": null,
            "_model_module": "@jupyter-widgets/controls",
            "layout": "IPY_MODEL_5399876187cf42eeaeeeac97713a7230"
          }
        },
        "92bd346ff82c4fa188155394ecb18d17": {
          "model_module": "@jupyter-widgets/controls",
          "model_name": "HTMLModel",
          "state": {
            "_view_name": "HTMLView",
            "style": "IPY_MODEL_59371678b8c7493ca9677d394c46e99c",
            "_dom_classes": [],
            "description": "",
            "_model_name": "HTMLModel",
            "placeholder": "​",
            "_view_module": "@jupyter-widgets/controls",
            "_model_module_version": "1.5.0",
            "value": " 232k/232k [00:00&lt;00:00, 305kB/s]",
            "_view_count": null,
            "_view_module_version": "1.5.0",
            "description_tooltip": null,
            "_model_module": "@jupyter-widgets/controls",
            "layout": "IPY_MODEL_dfefc72eff9d4d19b2543229b500561f"
          }
        },
        "27eeafb686aa4c8f8e4d3e49a06e296f": {
          "model_module": "@jupyter-widgets/controls",
          "model_name": "ProgressStyleModel",
          "state": {
            "_view_name": "StyleView",
            "_model_name": "ProgressStyleModel",
            "description_width": "initial",
            "_view_module": "@jupyter-widgets/base",
            "_model_module_version": "1.5.0",
            "_view_count": null,
            "_view_module_version": "1.2.0",
            "bar_color": null,
            "_model_module": "@jupyter-widgets/controls"
          }
        },
        "5399876187cf42eeaeeeac97713a7230": {
          "model_module": "@jupyter-widgets/base",
          "model_name": "LayoutModel",
          "state": {
            "_view_name": "LayoutView",
            "grid_template_rows": null,
            "right": null,
            "justify_content": null,
            "_view_module": "@jupyter-widgets/base",
            "overflow": null,
            "_model_module_version": "1.2.0",
            "_view_count": null,
            "flex_flow": null,
            "width": null,
            "min_width": null,
            "border": null,
            "align_items": null,
            "bottom": null,
            "_model_module": "@jupyter-widgets/base",
            "top": null,
            "grid_column": null,
            "overflow_y": null,
            "overflow_x": null,
            "grid_auto_flow": null,
            "grid_area": null,
            "grid_template_columns": null,
            "flex": null,
            "_model_name": "LayoutModel",
            "justify_items": null,
            "grid_row": null,
            "max_height": null,
            "align_content": null,
            "visibility": null,
            "align_self": null,
            "height": null,
            "min_height": null,
            "padding": null,
            "grid_auto_rows": null,
            "grid_gap": null,
            "max_width": null,
            "order": null,
            "_view_module_version": "1.2.0",
            "grid_template_areas": null,
            "object_position": null,
            "object_fit": null,
            "grid_auto_columns": null,
            "margin": null,
            "display": null,
            "left": null
          }
        },
        "59371678b8c7493ca9677d394c46e99c": {
          "model_module": "@jupyter-widgets/controls",
          "model_name": "DescriptionStyleModel",
          "state": {
            "_view_name": "StyleView",
            "_model_name": "DescriptionStyleModel",
            "description_width": "",
            "_view_module": "@jupyter-widgets/base",
            "_model_module_version": "1.5.0",
            "_view_count": null,
            "_view_module_version": "1.2.0",
            "_model_module": "@jupyter-widgets/controls"
          }
        },
        "dfefc72eff9d4d19b2543229b500561f": {
          "model_module": "@jupyter-widgets/base",
          "model_name": "LayoutModel",
          "state": {
            "_view_name": "LayoutView",
            "grid_template_rows": null,
            "right": null,
            "justify_content": null,
            "_view_module": "@jupyter-widgets/base",
            "overflow": null,
            "_model_module_version": "1.2.0",
            "_view_count": null,
            "flex_flow": null,
            "width": null,
            "min_width": null,
            "border": null,
            "align_items": null,
            "bottom": null,
            "_model_module": "@jupyter-widgets/base",
            "top": null,
            "grid_column": null,
            "overflow_y": null,
            "overflow_x": null,
            "grid_auto_flow": null,
            "grid_area": null,
            "grid_template_columns": null,
            "flex": null,
            "_model_name": "LayoutModel",
            "justify_items": null,
            "grid_row": null,
            "max_height": null,
            "align_content": null,
            "visibility": null,
            "align_self": null,
            "height": null,
            "min_height": null,
            "padding": null,
            "grid_auto_rows": null,
            "grid_gap": null,
            "max_width": null,
            "order": null,
            "_view_module_version": "1.2.0",
            "grid_template_areas": null,
            "object_position": null,
            "object_fit": null,
            "grid_auto_columns": null,
            "margin": null,
            "display": null,
            "left": null
          }
        },
        "5181d131b3cb410a84274ba5d4a290a7": {
          "model_module": "@jupyter-widgets/controls",
          "model_name": "HBoxModel",
          "state": {
            "_view_name": "HBoxView",
            "_dom_classes": [],
            "_model_name": "HBoxModel",
            "_view_module": "@jupyter-widgets/controls",
            "_model_module_version": "1.5.0",
            "_view_count": null,
            "_view_module_version": "1.5.0",
            "box_style": "",
            "layout": "IPY_MODEL_9b29da366a6a440494ebd2ce56be9742",
            "_model_module": "@jupyter-widgets/controls",
            "children": [
              "IPY_MODEL_22f087289d95472f9846bd11515c0d80",
              "IPY_MODEL_a88ec8ccbb4e4e19ae5f0e1c7acfb7aa"
            ]
          }
        },
        "9b29da366a6a440494ebd2ce56be9742": {
          "model_module": "@jupyter-widgets/base",
          "model_name": "LayoutModel",
          "state": {
            "_view_name": "LayoutView",
            "grid_template_rows": null,
            "right": null,
            "justify_content": null,
            "_view_module": "@jupyter-widgets/base",
            "overflow": null,
            "_model_module_version": "1.2.0",
            "_view_count": null,
            "flex_flow": null,
            "width": null,
            "min_width": null,
            "border": null,
            "align_items": null,
            "bottom": null,
            "_model_module": "@jupyter-widgets/base",
            "top": null,
            "grid_column": null,
            "overflow_y": null,
            "overflow_x": null,
            "grid_auto_flow": null,
            "grid_area": null,
            "grid_template_columns": null,
            "flex": null,
            "_model_name": "LayoutModel",
            "justify_items": null,
            "grid_row": null,
            "max_height": null,
            "align_content": null,
            "visibility": null,
            "align_self": null,
            "height": null,
            "min_height": null,
            "padding": null,
            "grid_auto_rows": null,
            "grid_gap": null,
            "max_width": null,
            "order": null,
            "_view_module_version": "1.2.0",
            "grid_template_areas": null,
            "object_position": null,
            "object_fit": null,
            "grid_auto_columns": null,
            "margin": null,
            "display": null,
            "left": null
          }
        },
        "22f087289d95472f9846bd11515c0d80": {
          "model_module": "@jupyter-widgets/controls",
          "model_name": "FloatProgressModel",
          "state": {
            "_view_name": "ProgressView",
            "style": "IPY_MODEL_4324d3ecffd449b1855570907a5e0710",
            "_dom_classes": [],
            "description": "Downloading: 100%",
            "_model_name": "FloatProgressModel",
            "bar_style": "success",
            "max": 1340675298,
            "_view_module": "@jupyter-widgets/controls",
            "_model_module_version": "1.5.0",
            "value": 1340675298,
            "_view_count": null,
            "_view_module_version": "1.5.0",
            "orientation": "horizontal",
            "min": 0,
            "description_tooltip": null,
            "_model_module": "@jupyter-widgets/controls",
            "layout": "IPY_MODEL_99ef7a8907294d2d97409d66f0174322"
          }
        },
        "a88ec8ccbb4e4e19ae5f0e1c7acfb7aa": {
          "model_module": "@jupyter-widgets/controls",
          "model_name": "HTMLModel",
          "state": {
            "_view_name": "HTMLView",
            "style": "IPY_MODEL_d27987ffea20427e8c28f60f31253f4e",
            "_dom_classes": [],
            "description": "",
            "_model_name": "HTMLModel",
            "placeholder": "​",
            "_view_module": "@jupyter-widgets/controls",
            "_model_module_version": "1.5.0",
            "value": " 1.34G/1.34G [01:28&lt;00:00, 15.1MB/s]",
            "_view_count": null,
            "_view_module_version": "1.5.0",
            "description_tooltip": null,
            "_model_module": "@jupyter-widgets/controls",
            "layout": "IPY_MODEL_9423012502ab4df6b0e31be9738df5e6"
          }
        },
        "4324d3ecffd449b1855570907a5e0710": {
          "model_module": "@jupyter-widgets/controls",
          "model_name": "ProgressStyleModel",
          "state": {
            "_view_name": "StyleView",
            "_model_name": "ProgressStyleModel",
            "description_width": "initial",
            "_view_module": "@jupyter-widgets/base",
            "_model_module_version": "1.5.0",
            "_view_count": null,
            "_view_module_version": "1.2.0",
            "bar_color": null,
            "_model_module": "@jupyter-widgets/controls"
          }
        },
        "99ef7a8907294d2d97409d66f0174322": {
          "model_module": "@jupyter-widgets/base",
          "model_name": "LayoutModel",
          "state": {
            "_view_name": "LayoutView",
            "grid_template_rows": null,
            "right": null,
            "justify_content": null,
            "_view_module": "@jupyter-widgets/base",
            "overflow": null,
            "_model_module_version": "1.2.0",
            "_view_count": null,
            "flex_flow": null,
            "width": null,
            "min_width": null,
            "border": null,
            "align_items": null,
            "bottom": null,
            "_model_module": "@jupyter-widgets/base",
            "top": null,
            "grid_column": null,
            "overflow_y": null,
            "overflow_x": null,
            "grid_auto_flow": null,
            "grid_area": null,
            "grid_template_columns": null,
            "flex": null,
            "_model_name": "LayoutModel",
            "justify_items": null,
            "grid_row": null,
            "max_height": null,
            "align_content": null,
            "visibility": null,
            "align_self": null,
            "height": null,
            "min_height": null,
            "padding": null,
            "grid_auto_rows": null,
            "grid_gap": null,
            "max_width": null,
            "order": null,
            "_view_module_version": "1.2.0",
            "grid_template_areas": null,
            "object_position": null,
            "object_fit": null,
            "grid_auto_columns": null,
            "margin": null,
            "display": null,
            "left": null
          }
        },
        "d27987ffea20427e8c28f60f31253f4e": {
          "model_module": "@jupyter-widgets/controls",
          "model_name": "DescriptionStyleModel",
          "state": {
            "_view_name": "StyleView",
            "_model_name": "DescriptionStyleModel",
            "description_width": "",
            "_view_module": "@jupyter-widgets/base",
            "_model_module_version": "1.5.0",
            "_view_count": null,
            "_view_module_version": "1.2.0",
            "_model_module": "@jupyter-widgets/controls"
          }
        },
        "9423012502ab4df6b0e31be9738df5e6": {
          "model_module": "@jupyter-widgets/base",
          "model_name": "LayoutModel",
          "state": {
            "_view_name": "LayoutView",
            "grid_template_rows": null,
            "right": null,
            "justify_content": null,
            "_view_module": "@jupyter-widgets/base",
            "overflow": null,
            "_model_module_version": "1.2.0",
            "_view_count": null,
            "flex_flow": null,
            "width": null,
            "min_width": null,
            "border": null,
            "align_items": null,
            "bottom": null,
            "_model_module": "@jupyter-widgets/base",
            "top": null,
            "grid_column": null,
            "overflow_y": null,
            "overflow_x": null,
            "grid_auto_flow": null,
            "grid_area": null,
            "grid_template_columns": null,
            "flex": null,
            "_model_name": "LayoutModel",
            "justify_items": null,
            "grid_row": null,
            "max_height": null,
            "align_content": null,
            "visibility": null,
            "align_self": null,
            "height": null,
            "min_height": null,
            "padding": null,
            "grid_auto_rows": null,
            "grid_gap": null,
            "max_width": null,
            "order": null,
            "_view_module_version": "1.2.0",
            "grid_template_areas": null,
            "object_position": null,
            "object_fit": null,
            "grid_auto_columns": null,
            "margin": null,
            "display": null,
            "left": null
          }
        }
      }
    }
  },
  "cells": [
    {
      "cell_type": "markdown",
      "metadata": {
        "id": "oU8KJAyh_AzH"
      },
      "source": [
        "# 03 Question Answering and Leaning into the fastai Community\n",
        "\n",
        "Through the power of [nbdev](https://github.com/fastai/nbdev) it is easy for folks to write extensions for fastai, adding useful functions and techniques while keeping the source library easy to maintain. We will be looking at one today\n"
      ]
    },
    {
      "cell_type": "markdown",
      "metadata": {
        "id": "Rv1-S5m-_R2f"
      },
      "source": [
        "## Blurr\n",
        "\n",
        "Blurr is a library made by a fastai fellow [wgpubs](https://forums.fast.ai/u/wgpubs/summary) which is designed to help integrate the HuggingFace library into fastai"
      ]
    },
    {
      "cell_type": "markdown",
      "metadata": {
        "id": "MFuKoh1N_veh"
      },
      "source": [
        "## Installing and importing the libraries:\n",
        "\n",
        "Let's install `blurr`, `fastai`, and `torch`:"
      ]
    },
    {
      "cell_type": "code",
      "metadata": {
        "id": "DEvyD4nu-9Gy"
      },
      "source": [
        "!pip install light-the-torch >> /.tmp\n",
        "!ltt install torch >> /.tmp\n",
        "!pip install fastai nbdev ohmeow-blurr --upgrade >> /.tmp"
      ],
      "execution_count": null,
      "outputs": []
    },
    {
      "cell_type": "markdown",
      "metadata": {
        "id": "_a4FrgnWAZRu"
      },
      "source": [
        "And now let's import them:"
      ]
    },
    {
      "cell_type": "code",
      "metadata": {
        "id": "hQoSHt6zAaV0"
      },
      "source": [
        "import torch\n",
        "from transformers import *\n",
        "from fastai.text.all import *\n",
        "\n",
        "from blurr.data.all import *\n",
        "from blurr.modeling.all import *"
      ],
      "execution_count": 4,
      "outputs": []
    },
    {
      "cell_type": "markdown",
      "metadata": {
        "id": "L0QmvdFi_3zf"
      },
      "source": [
        "## Question and Answer (Q/A)\n",
        "\n",
        "We will be following along his QA tutorial [here](https://ohmeow.github.io/blurr/modeling-question-answering/)\n",
        "\n",
        "Q/A is a technique where given an input we want our model to predict some logically sounding answer. "
      ]
    },
    {
      "cell_type": "markdown",
      "metadata": {
        "id": "zG4zBRnGA2w0"
      },
      "source": [
        "Let's download the dataset:"
      ]
    },
    {
      "cell_type": "code",
      "metadata": {
        "id": "YNB_adhX_17Z"
      },
      "source": [
        "!wget 'https://raw.githubusercontent.com/ohmeow/blurr/master/nbs/squad_sample.csv'"
      ],
      "execution_count": null,
      "outputs": []
    },
    {
      "cell_type": "markdown",
      "metadata": {
        "id": "XTLFTKYKA60O"
      },
      "source": [
        "And load it into `Pandas`:"
      ]
    },
    {
      "cell_type": "code",
      "metadata": {
        "id": "VXbKOZ2CA5BY",
        "outputId": "109f3e27-aa63-4626-f62e-1d4f21b2d315",
        "colab": {
          "base_uri": "https://localhost:8080/",
          "height": 1000
        }
      },
      "source": [
        "df = pd.read_csv('squad_sample.csv'); df.head(2)"
      ],
      "execution_count": 2,
      "outputs": [
        {
          "output_type": "execute_result",
          "data": {
            "text/html": [
              "<div>\n",
              "<style scoped>\n",
              "    .dataframe tbody tr th:only-of-type {\n",
              "        vertical-align: middle;\n",
              "    }\n",
              "\n",
              "    .dataframe tbody tr th {\n",
              "        vertical-align: top;\n",
              "    }\n",
              "\n",
              "    .dataframe thead th {\n",
              "        text-align: right;\n",
              "    }\n",
              "</style>\n",
              "<table border=\"1\" class=\"dataframe\">\n",
              "  <thead>\n",
              "    <tr style=\"text-align: right;\">\n",
              "      <th></th>\n",
              "      <th>id</th>\n",
              "      <th>title</th>\n",
              "      <th>context</th>\n",
              "      <th>question</th>\n",
              "      <th>answers</th>\n",
              "      <th>ds_type</th>\n",
              "      <th>answer_text</th>\n",
              "      <th>is_impossible</th>\n",
              "    </tr>\n",
              "  </thead>\n",
              "  <tbody>\n",
              "    <tr>\n",
              "      <th>0</th>\n",
              "      <td>56be85543aeaaa14008c9063</td>\n",
              "      <td>Beyoncé</td>\n",
              "      <td>Beyoncé Giselle Knowles-Carter (/biːˈjɒnseɪ/ bee-YON-say) (born September 4, 1981) is an American singer, songwriter, record producer and actress. Born and raised in Houston, Texas, she performed in various singing and dancing competitions as a child, and rose to fame in the late 1990s as lead singer of R&amp;B girl-group Destiny's Child. Managed by her father, Mathew Knowles, the group became one of the world's best-selling girl groups of all time. Their hiatus saw the release of Beyoncé's debut album, Dangerously in Love (2003), which established her as a solo artist worldwide, earned five G...</td>\n",
              "      <td>When did Beyonce start becoming popular?</td>\n",
              "      <td>{'text': ['in the late 1990s'], 'answer_start': [269]}</td>\n",
              "      <td>train</td>\n",
              "      <td>in the late 1990s</td>\n",
              "      <td>False</td>\n",
              "    </tr>\n",
              "    <tr>\n",
              "      <th>1</th>\n",
              "      <td>56be85543aeaaa14008c9065</td>\n",
              "      <td>Beyoncé</td>\n",
              "      <td>Beyoncé Giselle Knowles-Carter (/biːˈjɒnseɪ/ bee-YON-say) (born September 4, 1981) is an American singer, songwriter, record producer and actress. Born and raised in Houston, Texas, she performed in various singing and dancing competitions as a child, and rose to fame in the late 1990s as lead singer of R&amp;B girl-group Destiny's Child. Managed by her father, Mathew Knowles, the group became one of the world's best-selling girl groups of all time. Their hiatus saw the release of Beyoncé's debut album, Dangerously in Love (2003), which established her as a solo artist worldwide, earned five G...</td>\n",
              "      <td>What areas did Beyonce compete in when she was growing up?</td>\n",
              "      <td>{'text': ['singing and dancing'], 'answer_start': [207]}</td>\n",
              "      <td>train</td>\n",
              "      <td>singing and dancing</td>\n",
              "      <td>False</td>\n",
              "    </tr>\n",
              "  </tbody>\n",
              "</table>\n",
              "</div>"
            ],
            "text/plain": [
              "                         id    title  ...          answer_text is_impossible\n",
              "0  56be85543aeaaa14008c9063  Beyoncé  ...    in the late 1990s         False\n",
              "1  56be85543aeaaa14008c9065  Beyoncé  ...  singing and dancing         False\n",
              "\n",
              "[2 rows x 8 columns]"
            ]
          },
          "metadata": {
            "tags": []
          },
          "execution_count": 2
        }
      ]
    },
    {
      "cell_type": "markdown",
      "metadata": {
        "id": "Gq3rkPmTBCK0"
      },
      "source": [
        "## Getting a Pretrained Model\n",
        "\n",
        "We will use `bert` for our task. We need to define the model, the task, before using a helper function:"
      ]
    },
    {
      "cell_type": "code",
      "metadata": {
        "id": "gkvrRyc1A-1E"
      },
      "source": [
        "p_name = 'bert-large-uncased-whole-word-masking-finetuned-squad'\n",
        "model_cls = BertForQuestionAnswering"
      ],
      "execution_count": 5,
      "outputs": []
    },
    {
      "cell_type": "markdown",
      "metadata": {
        "id": "NOKdIC3QB8kS"
      },
      "source": [
        "Next we'll get the architecture, it's configuration, hugginface's tokenizer as well as the model:"
      ]
    },
    {
      "cell_type": "code",
      "metadata": {
        "id": "AtaZ3OOsB7qh",
        "outputId": "360b1a8c-07fe-4767-ba77-4e43c196c6bf",
        "colab": {
          "base_uri": "https://localhost:8080/",
          "height": 163,
          "referenced_widgets": [
            "eec252502001451b89cdcd4360c95da8",
            "bf8e8451e0aa4bbdb666037980968dfa",
            "ee586c5791124a89a4ac63f629be008a",
            "35f17bc397bc4b16bfa3818c3c51b70f",
            "57648b223ead448aa426d545eabb5d90",
            "56dc6e3cc42e4712b364200388635b7e",
            "452fe23d2e6540ae839b502e8bd126af",
            "5a832757dc15417a89c4caaeacdb3532",
            "f24f2921202146a5811c3f46c5896cef",
            "449c7c22c04047b0a251a16870cd82aa",
            "e34848f66f8a43e580fb2e38d5d7d625",
            "92bd346ff82c4fa188155394ecb18d17",
            "27eeafb686aa4c8f8e4d3e49a06e296f",
            "5399876187cf42eeaeeeac97713a7230",
            "59371678b8c7493ca9677d394c46e99c",
            "dfefc72eff9d4d19b2543229b500561f",
            "5181d131b3cb410a84274ba5d4a290a7",
            "9b29da366a6a440494ebd2ce56be9742",
            "22f087289d95472f9846bd11515c0d80",
            "a88ec8ccbb4e4e19ae5f0e1c7acfb7aa",
            "4324d3ecffd449b1855570907a5e0710",
            "99ef7a8907294d2d97409d66f0174322",
            "d27987ffea20427e8c28f60f31253f4e",
            "9423012502ab4df6b0e31be9738df5e6"
          ]
        }
      },
      "source": [
        "arch, config, tokenizer, net = BLURR_MODEL_HELPER.get_hf_objects(p_name,\n",
        "                                                                 model_cls=model_cls)"
      ],
      "execution_count": 7,
      "outputs": [
        {
          "output_type": "display_data",
          "data": {
            "application/vnd.jupyter.widget-view+json": {
              "model_id": "eec252502001451b89cdcd4360c95da8",
              "version_minor": 0,
              "version_major": 2
            },
            "text/plain": [
              "HBox(children=(FloatProgress(value=0.0, description='Downloading', max=443.0, style=ProgressStyle(description_…"
            ]
          },
          "metadata": {
            "tags": []
          }
        },
        {
          "output_type": "stream",
          "text": [
            "\n"
          ],
          "name": "stdout"
        },
        {
          "output_type": "display_data",
          "data": {
            "application/vnd.jupyter.widget-view+json": {
              "model_id": "f24f2921202146a5811c3f46c5896cef",
              "version_minor": 0,
              "version_major": 2
            },
            "text/plain": [
              "HBox(children=(FloatProgress(value=0.0, description='Downloading', max=231508.0, style=ProgressStyle(descripti…"
            ]
          },
          "metadata": {
            "tags": []
          }
        },
        {
          "output_type": "stream",
          "text": [
            "\n"
          ],
          "name": "stdout"
        },
        {
          "output_type": "display_data",
          "data": {
            "application/vnd.jupyter.widget-view+json": {
              "model_id": "5181d131b3cb410a84274ba5d4a290a7",
              "version_minor": 0,
              "version_major": 2
            },
            "text/plain": [
              "HBox(children=(FloatProgress(value=0.0, description='Downloading', max=1340675298.0, style=ProgressStyle(descr…"
            ]
          },
          "metadata": {
            "tags": []
          }
        },
        {
          "output_type": "stream",
          "text": [
            "\n"
          ],
          "name": "stdout"
        }
      ]
    },
    {
      "cell_type": "markdown",
      "metadata": {
        "id": "_D8ILJHyCQXy"
      },
      "source": [
        "## Working with the Data\n",
        "\n",
        "Next we need to apply some preprocessing:"
      ]
    },
    {
      "cell_type": "code",
      "metadata": {
        "id": "WfzjgH9LCGlF"
      },
      "source": [
        "df = df.apply(partial(pre_process_squad, hf_arch=arch, hf_tokenizer=tokenizer),\n",
        "              axis=1)"
      ],
      "execution_count": 8,
      "outputs": []
    },
    {
      "cell_type": "markdown",
      "metadata": {
        "id": "2-xQA0W9Cdc7"
      },
      "source": [
        "Before filtering our values by the sequence length:"
      ]
    },
    {
      "cell_type": "code",
      "metadata": {
        "id": "BTg6aVIRCdFd"
      },
      "source": [
        "seq_len=128"
      ],
      "execution_count": 9,
      "outputs": []
    },
    {
      "cell_type": "code",
      "metadata": {
        "id": "sHzF_ev6CiXI"
      },
      "source": [
        "df = df[(df.tokenized_input_len < seq_len) & (df.is_impossible == False)]"
      ],
      "execution_count": 11,
      "outputs": []
    },
    {
      "cell_type": "markdown",
      "metadata": {
        "id": "z_kmD-AjCobh"
      },
      "source": [
        "We'll then want to grab our vocab:"
      ]
    },
    {
      "cell_type": "code",
      "metadata": {
        "id": "HvkTvxV9ClFT"
      },
      "source": [
        "vocab = list(range(seq_len))"
      ],
      "execution_count": 13,
      "outputs": []
    },
    {
      "cell_type": "markdown",
      "metadata": {
        "id": "CZix-ar6Cted"
      },
      "source": [
        "Now let's integrate it into the `DataBlock` API. We'll add a batch transform specifically for HF:"
      ]
    },
    {
      "cell_type": "code",
      "metadata": {
        "id": "oNHLJxBSCrix"
      },
      "source": [
        "trunc_strat = 'only_second' if (tokenizer.padding_side == 'right') else 'only_first'"
      ],
      "execution_count": 16,
      "outputs": []
    },
    {
      "cell_type": "code",
      "metadata": {
        "id": "PzultubhC1ZG"
      },
      "source": [
        "hf_batch_tfm = HF_QABatchTransform(arch, tokenizer, \n",
        "                                   max_length=seq_len, \n",
        "                                   truncation=trunc_strat, \n",
        "                                   tok_kwargs={ 'return_special_tokens_mask': True })"
      ],
      "execution_count": 17,
      "outputs": []
    },
    {
      "cell_type": "markdown",
      "metadata": {
        "id": "WYLLqvYRC6RV"
      },
      "source": [
        "Let's define our `blocks`:"
      ]
    },
    {
      "cell_type": "code",
      "metadata": {
        "id": "fzv_DF7hC5b8"
      },
      "source": [
        "blocks = (\n",
        "    HF_TextBlock(hf_batch_tfm=hf_batch_tfm), \n",
        "    CategoryBlock(vocab=vocab),\n",
        "    CategoryBlock(vocab=vocab)\n",
        ")"
      ],
      "execution_count": 18,
      "outputs": []
    },
    {
      "cell_type": "markdown",
      "metadata": {
        "id": "JLR99T7dC-6o"
      },
      "source": [
        "How we want to get our data:"
      ]
    },
    {
      "cell_type": "code",
      "metadata": {
        "id": "kBrrNNQ3C-CC"
      },
      "source": [
        "def get_x(x):\n",
        "    return (x.question, x.context) if (tokenizer.padding_side == 'right') else (x.context, x.question)"
      ],
      "execution_count": 22,
      "outputs": []
    },
    {
      "cell_type": "markdown",
      "metadata": {
        "id": "ASzJk3pjDBPa"
      },
      "source": [
        "Before finally the `DataBlock` and `DataLoaders`:"
      ]
    },
    {
      "cell_type": "code",
      "metadata": {
        "id": "LdyDhWiUDAt5"
      },
      "source": [
        "dblock = DataBlock(blocks=blocks, \n",
        "                   get_x=get_x,\n",
        "                   get_y=[ColReader('tok_answer_start'), ColReader('tok_answer_end')],\n",
        "                   splitter=RandomSplitter(),\n",
        "                   n_inp=1)"
      ],
      "execution_count": 23,
      "outputs": []
    },
    {
      "cell_type": "code",
      "metadata": {
        "id": "RUPovJQkDEYh"
      },
      "source": [
        "dls = dblock.dataloaders(df, bs=4)"
      ],
      "execution_count": 24,
      "outputs": []
    },
    {
      "cell_type": "markdown",
      "metadata": {
        "id": "p3QXMYnuDKzi"
      },
      "source": [
        "Let's look at a batch of data:"
      ]
    },
    {
      "cell_type": "code",
      "metadata": {
        "id": "XlWICy7sDFtx",
        "outputId": "568d51be-e5c5-41e5-b31e-93058ae39b89",
        "colab": {
          "base_uri": "https://localhost:8080/",
          "height": 358
        }
      },
      "source": [
        "dls.show_batch(dataloaders=dls, max_n=2)"
      ],
      "execution_count": 26,
      "outputs": [
        {
          "output_type": "display_data",
          "data": {
            "text/html": [
              "<table border=\"1\" class=\"dataframe\">\n",
              "  <thead>\n",
              "    <tr style=\"text-align: right;\">\n",
              "      <th></th>\n",
              "      <th>text</th>\n",
              "      <th>start/end</th>\n",
              "      <th>answer</th>\n",
              "    </tr>\n",
              "  </thead>\n",
              "  <tbody>\n",
              "    <tr>\n",
              "      <th>0</th>\n",
              "      <td>what video game did beyonce back out of? the release of a video - game starpower : beyonce was cancelled after beyonce pulled out of a $ 100 million with gatefive who alleged the cancellation meant the sacking of 70 staff and millions of pounds lost in development. it was settled out of court by her lawyers in june 2013 who said that they had cancelled because gatefive had lost its financial backers. beyonce also has had deals with american express, nintendo ds and l'oreal since the age of 18.</td>\n",
              "      <td>(18, 22)</td>\n",
              "      <td>starpower : beyonce</td>\n",
              "    </tr>\n",
              "    <tr>\n",
              "      <th>1</th>\n",
              "      <td>what french magazine did beyonce appear in wearing blackface and tribal makeup? in 2006, the animal rights organization people for the ethical treatment of animals ( peta ), criticized beyonce for wearing and using fur in her clothing line house of dereon. in 2011, she appeared on the cover of french fashion magazine l'officiel, in blackface and tribal makeup that drew criticism from the media. a statement released from a spokesperson for the magazine said that beyonce's look was \" far from the glamorous sasha fierce \" and that it was \" a return to her african roots \".</td>\n",
              "      <td>(63, 68)</td>\n",
              "      <td>l ' officiel</td>\n",
              "    </tr>\n",
              "  </tbody>\n",
              "</table>"
            ],
            "text/plain": [
              "<IPython.core.display.HTML object>"
            ]
          },
          "metadata": {
            "tags": []
          }
        }
      ]
    },
    {
      "cell_type": "markdown",
      "metadata": {
        "id": "cFyK-qYZDROt"
      },
      "source": [
        "## Training\n",
        "\n",
        "Next we'll make a `Learner` for our problem by first wrapping our `net` in a HF helper:"
      ]
    },
    {
      "cell_type": "code",
      "metadata": {
        "id": "xzDguzBXDNWk"
      },
      "source": [
        "net = HF_BaseModelWrapper(net)"
      ],
      "execution_count": 27,
      "outputs": []
    },
    {
      "cell_type": "markdown",
      "metadata": {
        "id": "ilORnebrDcjQ"
      },
      "source": [
        "And then making the `Learner`:"
      ]
    },
    {
      "cell_type": "code",
      "metadata": {
        "id": "JAXlSOdUDYVi"
      },
      "source": [
        "learn = Learner(dls, net, cbs=[HF_QstAndAnsModelCallback],\n",
        "                splitter=hf_splitter,\n",
        "                loss_func=MultiTargetLoss())"
      ],
      "execution_count": 28,
      "outputs": []
    },
    {
      "cell_type": "markdown",
      "metadata": {
        "id": "SyBhqiSrDtmB"
      },
      "source": [
        "We'll create our optimizer state and freeze the model for transfer learning:"
      ]
    },
    {
      "cell_type": "code",
      "metadata": {
        "id": "smySLelLDtSh"
      },
      "source": [
        "learn.create_opt()\n",
        "learn.freeze()"
      ],
      "execution_count": 30,
      "outputs": []
    },
    {
      "cell_type": "markdown",
      "metadata": {
        "id": "qJDdv2taDyrA"
      },
      "source": [
        "Before fine-tuning:"
      ]
    },
    {
      "cell_type": "code",
      "metadata": {
        "id": "xwESWnRQDpjH",
        "outputId": "e3025cba-5ce8-4015-d7b0-2d37e7de99b7",
        "colab": {
          "base_uri": "https://localhost:8080/",
          "height": 196
        }
      },
      "source": [
        "learn.fine_tune(3, 1e-3)"
      ],
      "execution_count": 31,
      "outputs": [
        {
          "output_type": "display_data",
          "data": {
            "text/html": [
              "<table border=\"1\" class=\"dataframe\">\n",
              "  <thead>\n",
              "    <tr style=\"text-align: left;\">\n",
              "      <th>epoch</th>\n",
              "      <th>train_loss</th>\n",
              "      <th>valid_loss</th>\n",
              "      <th>time</th>\n",
              "    </tr>\n",
              "  </thead>\n",
              "  <tbody>\n",
              "    <tr>\n",
              "      <td>0</td>\n",
              "      <td>5.291303</td>\n",
              "      <td>2.841815</td>\n",
              "      <td>00:04</td>\n",
              "    </tr>\n",
              "  </tbody>\n",
              "</table>"
            ],
            "text/plain": [
              "<IPython.core.display.HTML object>"
            ]
          },
          "metadata": {
            "tags": []
          }
        },
        {
          "output_type": "display_data",
          "data": {
            "text/html": [
              "<table border=\"1\" class=\"dataframe\">\n",
              "  <thead>\n",
              "    <tr style=\"text-align: left;\">\n",
              "      <th>epoch</th>\n",
              "      <th>train_loss</th>\n",
              "      <th>valid_loss</th>\n",
              "      <th>time</th>\n",
              "    </tr>\n",
              "  </thead>\n",
              "  <tbody>\n",
              "    <tr>\n",
              "      <td>0</td>\n",
              "      <td>1.636171</td>\n",
              "      <td>1.438890</td>\n",
              "      <td>00:06</td>\n",
              "    </tr>\n",
              "    <tr>\n",
              "      <td>1</td>\n",
              "      <td>1.369125</td>\n",
              "      <td>1.069108</td>\n",
              "      <td>00:06</td>\n",
              "    </tr>\n",
              "    <tr>\n",
              "      <td>2</td>\n",
              "      <td>0.943430</td>\n",
              "      <td>1.027662</td>\n",
              "      <td>00:06</td>\n",
              "    </tr>\n",
              "  </tbody>\n",
              "</table>"
            ],
            "text/plain": [
              "<IPython.core.display.HTML object>"
            ]
          },
          "metadata": {
            "tags": []
          }
        }
      ]
    },
    {
      "cell_type": "markdown",
      "metadata": {
        "id": "Hp_hCDG1D3I1"
      },
      "source": [
        "Let's look at a few results:"
      ]
    },
    {
      "cell_type": "code",
      "metadata": {
        "id": "JAKd9VC4DrG2",
        "outputId": "4f6ec7e1-8d0c-4c42-fbf5-7afaa7f61680",
        "colab": {
          "base_uri": "https://localhost:8080/",
          "height": 409
        }
      },
      "source": [
        "learn.show_results(learner=learn, skip_special_tokens=True, max_n=2)"
      ],
      "execution_count": 32,
      "outputs": [
        {
          "output_type": "display_data",
          "data": {
            "text/html": [
              ""
            ],
            "text/plain": [
              "<IPython.core.display.HTML object>"
            ]
          },
          "metadata": {
            "tags": []
          }
        },
        {
          "output_type": "display_data",
          "data": {
            "text/html": [
              "<table border=\"1\" class=\"dataframe\">\n",
              "  <thead>\n",
              "    <tr style=\"text-align: right;\">\n",
              "      <th></th>\n",
              "      <th>text</th>\n",
              "      <th>start/end</th>\n",
              "      <th>answer</th>\n",
              "      <th>pred start/end</th>\n",
              "      <th>pred answer</th>\n",
              "    </tr>\n",
              "  </thead>\n",
              "  <tbody>\n",
              "    <tr>\n",
              "      <th>0</th>\n",
              "      <td>what language did chopin's father teach? in october 1810, six months after fryderyk's birth, the family moved to warsaw, where his father acquired a post teaching french at the warsaw lyceum, then housed in the saxon palace. fryderyk lived with his family in the palace grounds. the father played the flute and violin ; the mother played the piano and gave lessons to boys in the boarding house that the chopins kept. chopin was of slight build, and even in early childhood was prone to illnesses.</td>\n",
              "      <td>(38, 39)</td>\n",
              "      <td>french</td>\n",
              "      <td>(38, 39)</td>\n",
              "      <td>french</td>\n",
              "    </tr>\n",
              "    <tr>\n",
              "      <th>1</th>\n",
              "      <td>how much did beyonce initially contribute to the foundation? after hurricane katrina in 2005, beyonce and rowland founded the survivor foundation to provide transitional housing for victims in the houston area, to which beyonce contributed an initial $ 250, 000. the foundation has since expanded to work with other charities in the city, and also provided relief following hurricane ike three years later.</td>\n",
              "      <td>(42, 46)</td>\n",
              "      <td>$ 250 , 000</td>\n",
              "      <td>(42, 46)</td>\n",
              "      <td>$ 250 , 000</td>\n",
              "    </tr>\n",
              "  </tbody>\n",
              "</table>"
            ],
            "text/plain": [
              "<IPython.core.display.HTML object>"
            ]
          },
          "metadata": {
            "tags": []
          }
        }
      ]
    },
    {
      "cell_type": "markdown",
      "metadata": {
        "id": "4uveIjpzD9Mt"
      },
      "source": [
        "We did pretty good! Let's try asking it a question:"
      ]
    },
    {
      "cell_type": "code",
      "metadata": {
        "id": "qzcS5AToD6uj"
      },
      "source": [
        "inf_df = pd.DataFrame.from_dict([\n",
        "    {'question': 'Who created Star Wars?', \n",
        "     'context': 'George Lucas created Star Wars in 1977. He directed and produced it.'}],\n",
        "    orient='columns')"
      ],
      "execution_count": 33,
      "outputs": []
    },
    {
      "cell_type": "code",
      "metadata": {
        "id": "oE0IJvimEFcB",
        "outputId": "7a5ad411-724e-44db-ecc8-608bfa9a1c8d",
        "colab": {
          "base_uri": "https://localhost:8080/",
          "height": 118
        }
      },
      "source": [
        "learn.blurr_predict(inf_df.iloc[0])"
      ],
      "execution_count": 35,
      "outputs": [
        {
          "output_type": "display_data",
          "data": {
            "text/html": [
              ""
            ],
            "text/plain": [
              "<IPython.core.display.HTML object>"
            ]
          },
          "metadata": {
            "tags": []
          }
        },
        {
          "output_type": "execute_result",
          "data": {
            "text/plain": [
              "(('7', '9'),\n",
              " tensor([7]),\n",
              " tensor([[1.9917e-07, 1.1072e-07, 3.2708e-08, 2.9171e-08, 1.7883e-08, 1.4171e-08,\n",
              "          1.9917e-07, 9.9925e-01, 7.3408e-04, 5.3861e-08, 1.3217e-07, 4.8066e-08,\n",
              "          1.7595e-07, 5.1273e-06, 8.5625e-08, 7.5926e-06, 2.5976e-07, 2.7561e-08,\n",
              "          1.9069e-07, 7.7642e-08, 4.0385e-08, 1.9912e-07]]))"
            ]
          },
          "metadata": {
            "tags": []
          },
          "execution_count": 35
        }
      ]
    },
    {
      "cell_type": "code",
      "metadata": {
        "id": "UBwOhKScEGuw",
        "outputId": "4390f827-f29f-43d4-c8a8-e1131d1f626a",
        "colab": {
          "base_uri": "https://localhost:8080/"
        }
      },
      "source": [
        "inp_ids = tokenizer.encode('Who created Star Wars?',\n",
        "                              'George Lucas created Star Wars in 1977. He directed and produced it.')\n",
        "\n",
        "tokenizer.convert_ids_to_tokens(inp_ids, skip_special_tokens=False)[7:9]"
      ],
      "execution_count": 36,
      "outputs": [
        {
          "output_type": "execute_result",
          "data": {
            "text/plain": [
              "['george', 'lucas']"
            ]
          },
          "metadata": {
            "tags": []
          },
          "execution_count": 36
        }
      ]
    },
    {
      "cell_type": "markdown",
      "metadata": {
        "id": "C96ZfY_cENqd"
      },
      "source": [
        "Pretty cool!"
      ]
    }
  ]
}