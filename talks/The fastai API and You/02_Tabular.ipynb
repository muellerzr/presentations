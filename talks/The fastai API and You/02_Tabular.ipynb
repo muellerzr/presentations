{
  "nbformat": 4,
  "nbformat_minor": 0,
  "metadata": {
    "colab": {
      "name": "02_Tabular.ipynb",
      "provenance": [],
      "collapsed_sections": []
    },
    "kernelspec": {
      "name": "python3",
      "display_name": "Python 3"
    },
    "accelerator": "GPU"
  },
  "cells": [
    {
      "cell_type": "markdown",
      "metadata": {
        "id": "qg03zznWm7BZ"
      },
      "source": [
        "# 02 Tabular Classification\n",
        "\n",
        "In this notebook we will quickly show how to perform binary classfication on tabular data"
      ]
    },
    {
      "cell_type": "markdown",
      "metadata": {
        "id": "pmgvlFDPnDh1"
      },
      "source": [
        "## Installing the library\n",
        "\n",
        "First we'll install the library as we did in the previous notebook:"
      ]
    },
    {
      "cell_type": "code",
      "metadata": {
        "id": "Lj4ORFtdl_JR"
      },
      "source": [
        "!pip install light-the-torch >> /.tmp\n",
        "!ltt install torch torchvision >> /.tmp\n",
        "!pip install fastai nbdev --upgrade >> /.tmp"
      ],
      "execution_count": 1,
      "outputs": []
    },
    {
      "cell_type": "markdown",
      "metadata": {
        "id": "C2_hB53nnGto"
      },
      "source": [
        "## Importing the Library and Getting the Data\n",
        "\n",
        "Then we'll import the `tabular` library:"
      ]
    },
    {
      "cell_type": "code",
      "metadata": {
        "id": "g7G6d684mM1x"
      },
      "source": [
        "from fastai.tabular.all import *"
      ],
      "execution_count": 2,
      "outputs": []
    },
    {
      "cell_type": "markdown",
      "metadata": {
        "id": "8XxG8jkTnN7s"
      },
      "source": [
        "We will download the `ADULT_SAMPLE` dataset and load it into `Pandas`:"
      ]
    },
    {
      "cell_type": "code",
      "metadata": {
        "id": "RoyiwS9CnK-l",
        "outputId": "c68f6546-19a5-4677-d411-c7047e1e16dc",
        "colab": {
          "base_uri": "https://localhost:8080/",
          "height": 17
        }
      },
      "source": [
        "path = untar_data(URLs.ADULT_SAMPLE)\n",
        "df = pd.read_csv(path/'adult.csv')"
      ],
      "execution_count": 3,
      "outputs": [
        {
          "output_type": "display_data",
          "data": {
            "text/html": [
              ""
            ],
            "text/plain": [
              "<IPython.core.display.HTML object>"
            ]
          },
          "metadata": {
            "tags": []
          }
        }
      ]
    },
    {
      "cell_type": "code",
      "metadata": {
        "id": "-yq1Alk-nU5e",
        "outputId": "4e9f8eb0-ac0b-4fb0-fe46-b6090cd8db45",
        "colab": {
          "base_uri": "https://localhost:8080/",
          "height": 383
        }
      },
      "source": [
        "df.head()"
      ],
      "execution_count": 4,
      "outputs": [
        {
          "output_type": "execute_result",
          "data": {
            "text/html": [
              "<div>\n",
              "<style scoped>\n",
              "    .dataframe tbody tr th:only-of-type {\n",
              "        vertical-align: middle;\n",
              "    }\n",
              "\n",
              "    .dataframe tbody tr th {\n",
              "        vertical-align: top;\n",
              "    }\n",
              "\n",
              "    .dataframe thead th {\n",
              "        text-align: right;\n",
              "    }\n",
              "</style>\n",
              "<table border=\"1\" class=\"dataframe\">\n",
              "  <thead>\n",
              "    <tr style=\"text-align: right;\">\n",
              "      <th></th>\n",
              "      <th>age</th>\n",
              "      <th>workclass</th>\n",
              "      <th>fnlwgt</th>\n",
              "      <th>education</th>\n",
              "      <th>education-num</th>\n",
              "      <th>marital-status</th>\n",
              "      <th>occupation</th>\n",
              "      <th>relationship</th>\n",
              "      <th>race</th>\n",
              "      <th>sex</th>\n",
              "      <th>capital-gain</th>\n",
              "      <th>capital-loss</th>\n",
              "      <th>hours-per-week</th>\n",
              "      <th>native-country</th>\n",
              "      <th>salary</th>\n",
              "    </tr>\n",
              "  </thead>\n",
              "  <tbody>\n",
              "    <tr>\n",
              "      <th>0</th>\n",
              "      <td>49</td>\n",
              "      <td>Private</td>\n",
              "      <td>101320</td>\n",
              "      <td>Assoc-acdm</td>\n",
              "      <td>12.0</td>\n",
              "      <td>Married-civ-spouse</td>\n",
              "      <td>NaN</td>\n",
              "      <td>Wife</td>\n",
              "      <td>White</td>\n",
              "      <td>Female</td>\n",
              "      <td>0</td>\n",
              "      <td>1902</td>\n",
              "      <td>40</td>\n",
              "      <td>United-States</td>\n",
              "      <td>&gt;=50k</td>\n",
              "    </tr>\n",
              "    <tr>\n",
              "      <th>1</th>\n",
              "      <td>44</td>\n",
              "      <td>Private</td>\n",
              "      <td>236746</td>\n",
              "      <td>Masters</td>\n",
              "      <td>14.0</td>\n",
              "      <td>Divorced</td>\n",
              "      <td>Exec-managerial</td>\n",
              "      <td>Not-in-family</td>\n",
              "      <td>White</td>\n",
              "      <td>Male</td>\n",
              "      <td>10520</td>\n",
              "      <td>0</td>\n",
              "      <td>45</td>\n",
              "      <td>United-States</td>\n",
              "      <td>&gt;=50k</td>\n",
              "    </tr>\n",
              "    <tr>\n",
              "      <th>2</th>\n",
              "      <td>38</td>\n",
              "      <td>Private</td>\n",
              "      <td>96185</td>\n",
              "      <td>HS-grad</td>\n",
              "      <td>NaN</td>\n",
              "      <td>Divorced</td>\n",
              "      <td>NaN</td>\n",
              "      <td>Unmarried</td>\n",
              "      <td>Black</td>\n",
              "      <td>Female</td>\n",
              "      <td>0</td>\n",
              "      <td>0</td>\n",
              "      <td>32</td>\n",
              "      <td>United-States</td>\n",
              "      <td>&lt;50k</td>\n",
              "    </tr>\n",
              "    <tr>\n",
              "      <th>3</th>\n",
              "      <td>38</td>\n",
              "      <td>Self-emp-inc</td>\n",
              "      <td>112847</td>\n",
              "      <td>Prof-school</td>\n",
              "      <td>15.0</td>\n",
              "      <td>Married-civ-spouse</td>\n",
              "      <td>Prof-specialty</td>\n",
              "      <td>Husband</td>\n",
              "      <td>Asian-Pac-Islander</td>\n",
              "      <td>Male</td>\n",
              "      <td>0</td>\n",
              "      <td>0</td>\n",
              "      <td>40</td>\n",
              "      <td>United-States</td>\n",
              "      <td>&gt;=50k</td>\n",
              "    </tr>\n",
              "    <tr>\n",
              "      <th>4</th>\n",
              "      <td>42</td>\n",
              "      <td>Self-emp-not-inc</td>\n",
              "      <td>82297</td>\n",
              "      <td>7th-8th</td>\n",
              "      <td>NaN</td>\n",
              "      <td>Married-civ-spouse</td>\n",
              "      <td>Other-service</td>\n",
              "      <td>Wife</td>\n",
              "      <td>Black</td>\n",
              "      <td>Female</td>\n",
              "      <td>0</td>\n",
              "      <td>0</td>\n",
              "      <td>50</td>\n",
              "      <td>United-States</td>\n",
              "      <td>&lt;50k</td>\n",
              "    </tr>\n",
              "  </tbody>\n",
              "</table>\n",
              "</div>"
            ],
            "text/plain": [
              "   age          workclass  fnlwgt  ... hours-per-week  native-country salary\n",
              "0   49            Private  101320  ...             40   United-States  >=50k\n",
              "1   44            Private  236746  ...             45   United-States  >=50k\n",
              "2   38            Private   96185  ...             32   United-States   <50k\n",
              "3   38       Self-emp-inc  112847  ...             40   United-States  >=50k\n",
              "4   42   Self-emp-not-inc   82297  ...             50   United-States   <50k\n",
              "\n",
              "[5 rows x 15 columns]"
            ]
          },
          "metadata": {
            "tags": []
          },
          "execution_count": 4
        }
      ]
    },
    {
      "cell_type": "markdown",
      "metadata": {
        "id": "rC1ty_QcnZ0d"
      },
      "source": [
        "The goal with this dataset is to calculate a persons salary given external information. To work with it in the `fastai` library we need to define the categorical and continous variables, the preprocessers we want to use, as well as our y variables.\n",
        "\n",
        "For tabular problems these preprocessors (or `Transforms`) are `Categorify`, `FillMissing`, and `Normalize`:"
      ]
    },
    {
      "cell_type": "code",
      "metadata": {
        "id": "f5MHZdbfnZKp"
      },
      "source": [
        "cat_names = ['workclass', 'education', 'marital-status', 'occupation', 'relationship', 'race']\n",
        "cont_names = ['age', 'fnlwgt', 'education-num']\n",
        "procs = [Categorify, FillMissing, Normalize]\n",
        "y_names = 'salary'"
      ],
      "execution_count": 6,
      "outputs": []
    },
    {
      "cell_type": "markdown",
      "metadata": {
        "id": "fsiDIRz-npEL"
      },
      "source": [
        "Next we'll declare how to split the data. Similar to the PETs example we'll define a splitter then send it a range of indicies to use:"
      ]
    },
    {
      "cell_type": "code",
      "metadata": {
        "id": "lPXUwbP6noqm"
      },
      "source": [
        "splits = RandomSplitter(valid_pct=0.2, seed=42)(range_of(df))"
      ],
      "execution_count": 7,
      "outputs": []
    },
    {
      "cell_type": "code",
      "metadata": {
        "id": "GGDi5hoNnzJN",
        "outputId": "3cdf294b-9826-4ca1-954a-fad9d459d7b2",
        "colab": {
          "base_uri": "https://localhost:8080/"
        }
      },
      "source": [
        "splits"
      ],
      "execution_count": 8,
      "outputs": [
        {
          "output_type": "execute_result",
          "data": {
            "text/plain": [
              "((#26049) [14860,30337,20177,23289,27833,28222,10731,775,9068,15458...],\n",
              " (#6512) [26459,14308,30129,7933,23325,4624,24726,19755,24006,30826...])"
            ]
          },
          "metadata": {
            "tags": []
          },
          "execution_count": 8
        }
      ]
    },
    {
      "cell_type": "markdown",
      "metadata": {
        "id": "LY5PznConz7o"
      },
      "source": [
        "And now we will load everything into the `TabDataLoaders` API:"
      ]
    },
    {
      "cell_type": "code",
      "metadata": {
        "id": "rEHeOQR9nzbu"
      },
      "source": [
        "dls = TabularDataLoaders.from_df(df, procs=procs, \n",
        "                                 cat_names=cat_names, \n",
        "                                 cont_names=cont_names, \n",
        "                                 splits=splits, y_names=y_names)"
      ],
      "execution_count": 10,
      "outputs": []
    },
    {
      "cell_type": "markdown",
      "metadata": {
        "id": "fH_eaZBGoIKh"
      },
      "source": [
        "We can also load this into the mid-level `TabularPandas` API:\n",
        "> This has the benefit of being usable across other libraries, read more [here](https://github.com/muellerzr/Practical-Deep-Learning-for-Coders-2.0/blob/master/Tabular%20Notebooks/02_Ensembling.ipynb)"
      ]
    },
    {
      "cell_type": "code",
      "metadata": {
        "id": "9l2felptoDQw"
      },
      "source": [
        "to = TabularPandas(df, procs=procs, cat_names=cat_names, cont_names=cont_names,\n",
        "                   y_names=y_names, splits=splits)"
      ],
      "execution_count": 12,
      "outputs": []
    },
    {
      "cell_type": "markdown",
      "metadata": {
        "id": "Dr2ydbJdoZmM"
      },
      "source": [
        "And then we can load it into `DataLoaders`:"
      ]
    },
    {
      "cell_type": "code",
      "metadata": {
        "id": "KSnqWKIToYJ0"
      },
      "source": [
        "dls = to.dataloaders(bs=512)"
      ],
      "execution_count": 13,
      "outputs": []
    },
    {
      "cell_type": "markdown",
      "metadata": {
        "id": "pArwgugwodA4"
      },
      "source": [
        "## Making a `Learner`\n",
        "\n",
        "Similar to our `cnn_learner` we have a `tabular_learner` which will generate a fully-connected neural network usable for our data. The size of the hidden layers is defined by `layers`:"
      ]
    },
    {
      "cell_type": "code",
      "metadata": {
        "id": "L1VPv732ocWp"
      },
      "source": [
        "learn = tabular_learner(dls, layers=[200,100], metrics=accuracy)"
      ],
      "execution_count": 14,
      "outputs": []
    },
    {
      "cell_type": "markdown",
      "metadata": {
        "id": "j2V7I3PNoq1t"
      },
      "source": [
        "To show how easy it is to use new optimizers we'll go ahead and show an example with the `ranger` optimizer, which is a mix of LookAhead and AdamW:"
      ]
    },
    {
      "cell_type": "code",
      "metadata": {
        "id": "pVP07skRooNm"
      },
      "source": [
        "learn = tabular_learner(dls, layers=[200,100], opt_func=ranger, metrics=accuracy)"
      ],
      "execution_count": 15,
      "outputs": []
    },
    {
      "cell_type": "markdown",
      "metadata": {
        "id": "3i2YtBIto08z"
      },
      "source": [
        "And finally we'll train:"
      ]
    },
    {
      "cell_type": "code",
      "metadata": {
        "id": "EskE_ZCwo0L3",
        "outputId": "981ba770-806b-482a-ee99-936c2b9eda6b",
        "colab": {
          "base_uri": "https://localhost:8080/",
          "height": 195
        }
      },
      "source": [
        "learn.fit_flat_cos(5, 4e-3)"
      ],
      "execution_count": 16,
      "outputs": [
        {
          "output_type": "display_data",
          "data": {
            "text/html": [
              "<table border=\"1\" class=\"dataframe\">\n",
              "  <thead>\n",
              "    <tr style=\"text-align: left;\">\n",
              "      <th>epoch</th>\n",
              "      <th>train_loss</th>\n",
              "      <th>valid_loss</th>\n",
              "      <th>accuracy</th>\n",
              "      <th>time</th>\n",
              "    </tr>\n",
              "  </thead>\n",
              "  <tbody>\n",
              "    <tr>\n",
              "      <td>0</td>\n",
              "      <td>0.430128</td>\n",
              "      <td>0.461389</td>\n",
              "      <td>0.814496</td>\n",
              "      <td>00:00</td>\n",
              "    </tr>\n",
              "    <tr>\n",
              "      <td>1</td>\n",
              "      <td>0.378331</td>\n",
              "      <td>0.354911</td>\n",
              "      <td>0.835842</td>\n",
              "      <td>00:00</td>\n",
              "    </tr>\n",
              "    <tr>\n",
              "      <td>2</td>\n",
              "      <td>0.358553</td>\n",
              "      <td>0.348953</td>\n",
              "      <td>0.837531</td>\n",
              "      <td>00:00</td>\n",
              "    </tr>\n",
              "    <tr>\n",
              "      <td>3</td>\n",
              "      <td>0.349968</td>\n",
              "      <td>0.351114</td>\n",
              "      <td>0.838913</td>\n",
              "      <td>00:00</td>\n",
              "    </tr>\n",
              "    <tr>\n",
              "      <td>4</td>\n",
              "      <td>0.343157</td>\n",
              "      <td>0.346730</td>\n",
              "      <td>0.839834</td>\n",
              "      <td>00:00</td>\n",
              "    </tr>\n",
              "  </tbody>\n",
              "</table>"
            ],
            "text/plain": [
              "<IPython.core.display.HTML object>"
            ]
          },
          "metadata": {
            "tags": []
          }
        }
      ]
    },
    {
      "cell_type": "markdown",
      "metadata": {
        "id": "v00odr8Zo9h3"
      },
      "source": [
        "## Inference\n",
        "\n",
        "Just as with the vision example, we can pass in a row and perform inference:"
      ]
    },
    {
      "cell_type": "code",
      "metadata": {
        "id": "f1KcUSJoo5et",
        "outputId": "ea4fb62d-9b25-46bb-a52b-ad9449aa2ebc",
        "colab": {
          "base_uri": "https://localhost:8080/",
          "height": 17
        }
      },
      "source": [
        "row, idx, probs = learn.predict(df.iloc[0])"
      ],
      "execution_count": 18,
      "outputs": [
        {
          "output_type": "display_data",
          "data": {
            "text/html": [
              ""
            ],
            "text/plain": [
              "<IPython.core.display.HTML object>"
            ]
          },
          "metadata": {
            "tags": []
          }
        }
      ]
    },
    {
      "cell_type": "markdown",
      "metadata": {
        "id": "KAATv8yFpKav"
      },
      "source": [
        "The input row:"
      ]
    },
    {
      "cell_type": "code",
      "metadata": {
        "id": "_p42GGOhpBSj",
        "outputId": "f2ce3d8a-24ca-4999-9918-07d46f07cf16",
        "colab": {
          "base_uri": "https://localhost:8080/",
          "height": 147
        }
      },
      "source": [
        "row.show()"
      ],
      "execution_count": 19,
      "outputs": [
        {
          "output_type": "display_data",
          "data": {
            "text/html": [
              "<table border=\"1\" class=\"dataframe\">\n",
              "  <thead>\n",
              "    <tr style=\"text-align: right;\">\n",
              "      <th></th>\n",
              "      <th>workclass</th>\n",
              "      <th>education</th>\n",
              "      <th>marital-status</th>\n",
              "      <th>occupation</th>\n",
              "      <th>relationship</th>\n",
              "      <th>race</th>\n",
              "      <th>education-num_na</th>\n",
              "      <th>age</th>\n",
              "      <th>fnlwgt</th>\n",
              "      <th>education-num</th>\n",
              "      <th>salary</th>\n",
              "    </tr>\n",
              "  </thead>\n",
              "  <tbody>\n",
              "    <tr>\n",
              "      <th>0</th>\n",
              "      <td>Private</td>\n",
              "      <td>Assoc-acdm</td>\n",
              "      <td>Married-civ-spouse</td>\n",
              "      <td>#na#</td>\n",
              "      <td>Wife</td>\n",
              "      <td>White</td>\n",
              "      <td>False</td>\n",
              "      <td>49.0</td>\n",
              "      <td>101320.001323</td>\n",
              "      <td>12.0</td>\n",
              "      <td>&gt;=50k</td>\n",
              "    </tr>\n",
              "  </tbody>\n",
              "</table>"
            ],
            "text/plain": [
              "<IPython.core.display.HTML object>"
            ]
          },
          "metadata": {
            "tags": []
          }
        }
      ]
    },
    {
      "cell_type": "markdown",
      "metadata": {
        "id": "33sIt4pTpLg3"
      },
      "source": [
        "The probabilities:"
      ]
    },
    {
      "cell_type": "code",
      "metadata": {
        "id": "ojhsio2lpFKn",
        "outputId": "f3536934-c2b8-4166-8310-a0f71e9fc1a6",
        "colab": {
          "base_uri": "https://localhost:8080/"
        }
      },
      "source": [
        "probs"
      ],
      "execution_count": 20,
      "outputs": [
        {
          "output_type": "execute_result",
          "data": {
            "text/plain": [
              "tensor([0.4805, 0.5195])"
            ]
          },
          "metadata": {
            "tags": []
          },
          "execution_count": 20
        }
      ]
    },
    {
      "cell_type": "markdown",
      "metadata": {
        "id": "odbWgrPYpNC1"
      },
      "source": [
        "The class index:"
      ]
    },
    {
      "cell_type": "code",
      "metadata": {
        "id": "mIX4LC9MpFoh",
        "outputId": "08f3c108-e965-4014-8625-dc5db2db9272",
        "colab": {
          "base_uri": "https://localhost:8080/"
        }
      },
      "source": [
        "idx"
      ],
      "execution_count": 21,
      "outputs": [
        {
          "output_type": "execute_result",
          "data": {
            "text/plain": [
              "tensor(1)"
            ]
          },
          "metadata": {
            "tags": []
          },
          "execution_count": 21
        }
      ]
    },
    {
      "cell_type": "markdown",
      "metadata": {
        "id": "Om-_6plipOL3"
      },
      "source": [
        "Which we can convert back to a name easily:"
      ]
    },
    {
      "cell_type": "code",
      "metadata": {
        "id": "lnnk15uKpPls",
        "outputId": "fb1073e1-e375-4dfc-f759-ace95b813c24",
        "colab": {
          "base_uri": "https://localhost:8080/",
          "height": 35
        }
      },
      "source": [
        "dls.vocab[idx]"
      ],
      "execution_count": 23,
      "outputs": [
        {
          "output_type": "execute_result",
          "data": {
            "application/vnd.google.colaboratory.intrinsic+json": {
              "type": "string"
            },
            "text/plain": [
              "'>=50k'"
            ]
          },
          "metadata": {
            "tags": []
          },
          "execution_count": 23
        }
      ]
    }
  ]
}