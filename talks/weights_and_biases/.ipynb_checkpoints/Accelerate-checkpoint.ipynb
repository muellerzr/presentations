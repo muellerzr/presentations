{
 "cells": [
  {
   "cell_type": "markdown",
   "id": "ff5c7a97-02d5-4aea-8bd5-59be5e62bf01",
   "metadata": {},
   "source": [
    "---\n",
    "title: \"Accelerate, three powerful sublibraries for PyTorch\"\n",
    "author: \"Zachary Mueller\"\n",
    "format: revealjs\n",
    "---"
   ]
  },
  {
   "cell_type": "markdown",
   "id": "af3f8383-daa0-4e18-8fc7-ca65dd130986",
   "metadata": {},
   "source": [
    "## Getting up\n",
    "\n",
    "- Turn off alarm\n",
    "- Get out of bed"
   ]
  },
  {
   "cell_type": "markdown",
   "id": "4e6414d0-f8f8-4bd2-b06f-fe7f848320f1",
   "metadata": {},
   "source": [
    "## Going to sleep"
   ]
  },
  {
   "cell_type": "code",
   "execution_count": 1,
   "id": "15e6bc97-b411-4952-986a-6e7e9e474442",
   "metadata": {},
   "outputs": [
    {
     "name": "stdout",
     "output_type": "stream",
     "text": [
      "Hello world!\n"
     ]
    }
   ],
   "source": [
    "print(\"Hello world!\")"
   ]
  },
  {
   "cell_type": "code",
   "execution_count": null,
   "id": "4dc105b6-068d-4963-a77f-e807c9eaa919",
   "metadata": {},
   "outputs": [],
   "source": []
  }
 ],
 "metadata": {
  "kernelspec": {
   "display_name": "Python 3 (ipykernel)",
   "language": "python",
   "name": "python3"
  },
  "language_info": {
   "codemirror_mode": {
    "name": "ipython",
    "version": 3
   },
   "file_extension": ".py",
   "mimetype": "text/x-python",
   "name": "python",
   "nbconvert_exporter": "python",
   "pygments_lexer": "ipython3",
   "version": "3.8.10"
  }
 },
 "nbformat": 4,
 "nbformat_minor": 5
}
